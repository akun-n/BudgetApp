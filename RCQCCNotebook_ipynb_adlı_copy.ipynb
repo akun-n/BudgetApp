{
  "cells": [
    {
      "cell_type": "markdown",
      "metadata": {
        "id": "view-in-github",
        "colab_type": "text"
      },
      "source": [
        "<a href=\"https://colab.research.google.com/github/ruzgarimren/BudgetApp/blob/main/RCQCCNotebook_ipynb_adl%C4%B1_copy.ipynb\" target=\"_parent\"><img src=\"https://colab.research.google.com/assets/colab-badge.svg\" alt=\"Open In Colab\"/></a>"
      ]
    },
    {
      "cell_type": "markdown",
      "source": [
        "<h1> Hafta 2: Python ve Qiskit'e Giriş<h1>"
      ],
      "metadata": {
        "id": "EfgUJC1x-zzV"
      }
    },
    {
      "cell_type": "markdown",
      "source": [
        "Python nesne yönelimli, modüler ve etkileşimli bir dildir. Python hakkında temel bilginizin olduğunu varsayıp belli kısımları tekrar edeceğiz. Fonksiyon ve sınıf tanımlamayla başlayacağız çünkü Qiskit aslında kendi kodumuzda kullanacağımız bir sınıftır.\n"
      ],
      "metadata": {
        "id": "uP-cCNvFA0rR"
      }
    },
    {
      "cell_type": "markdown",
      "source": [
        "##Fonksiyon ve Sınıf"
      ],
      "metadata": {
        "id": "NLkbpreEn_BW"
      }
    },
    {
      "cell_type": "markdown",
      "source": [
        "**<h3>Fonksiyon tanımlama:<h3>**"
      ],
      "metadata": {
        "id": "7rnKwMB8sBr_"
      }
    },
    {
      "cell_type": "code",
      "source": [
        "x=3\n",
        "#define kelimesinin kısaltması olan \"def\"le tanımlanır.\n",
        "def fonksiyon():\n",
        "  y=x+5\n",
        "  print(y)\n",
        "\n",
        "#fonksiyona verdiğiniz isimle çağırılır.\n",
        "fonksiyon()"
      ],
      "metadata": {
        "id": "iM7Q6lOrsI0q",
        "colab": {
          "base_uri": "https://localhost:8080/"
        },
        "outputId": "78650581-491c-47e2-fa60-3f645181e231"
      },
      "execution_count": null,
      "outputs": [
        {
          "output_type": "stream",
          "name": "stdout",
          "text": [
            "8\n"
          ]
        }
      ]
    },
    {
      "cell_type": "markdown",
      "source": [
        "Fonksiyonlar basitçe bu şekilde tanımlanır. Bunun yanında bir fonksiyona parametreler ekleyerek fonksiyonu farklı değişkenler ve durumlar için de tanımlayabilriz.\n",
        "\n",
        "Örnek:"
      ],
      "metadata": {
        "id": "z4y3YqeEtHtr"
      }
    },
    {
      "cell_type": "code",
      "source": [
        "\"\"\"Aynı fonksiyonun içine a parametresini tanımlayıp istediğimiz sayıya 5 ekleyebileceğiz\"\"\"\n",
        "def fonksiyon(a):\n",
        "  a+=5\n",
        "  print(a)\n",
        "fonksiyon(3)"
      ],
      "metadata": {
        "id": "voJYCwzutNgJ"
      },
      "execution_count": null,
      "outputs": []
    },
    {
      "cell_type": "markdown",
      "source": [
        "**<h3>Class:<h3>**\n",
        "\n",
        "Class tanımlamak da fonksiyon tanımlamaya benzer fakat classlar obje ve bu objelere fonksiyonlar tanımlamak için kullanılır."
      ],
      "metadata": {
        "id": "iBMrW5fouBXl"
      }
    },
    {
      "cell_type": "code",
      "source": [
        "class Hayvan:\n",
        "#__init__ fonksiyonu tanımlanan class'ın varsayılan fonksiyonudur.\n",
        "  def __init__(self, isim, tur):\n",
        "    #bu objelere self. komutuyla değişkenler atanır.\n",
        "    self.isim = isim\n",
        "    self.tur = tur\n",
        "#class çağırıldığında beraberinde varsayılan fonksiyonun parametreleriyle birlikte çağırılır\n",
        "hayvan1 = Hayvan(\"Karabaş\", \"Golden\")\n",
        "\n",
        "#objeye tanımlanan değişkenler aşağıdaki şekilde çağırılır.\n",
        "print(hayvan1.isim)\n",
        "print(hayvan1.tur)"
      ],
      "metadata": {
        "colab": {
          "base_uri": "https://localhost:8080/"
        },
        "id": "yvWHBZftuG9h",
        "outputId": "b33effbe-ceae-48c1-8f3e-c96cc64cf05f"
      },
      "execution_count": null,
      "outputs": [
        {
          "output_type": "stream",
          "name": "stdout",
          "text": [
            "Karabaş\n",
            "Golden\n"
          ]
        }
      ]
    },
    {
      "cell_type": "markdown",
      "source": [
        "**<h3> Ödev-1<h3>**\n",
        "\n",
        "Aşağıda verilen kondisyonları sağlayan bir sınıf tanımlayın.\n",
        "\n",
        "\n",
        "*   Sınıfın adı Öğrenci olacaktır.\n",
        "*   Öğrencinin **ismi, sınıfı ve ödev sayısı** her obje için tanımlanacaktır.\n",
        "*   Sınıfın içinde tanımlanan bir **fonksiyon** öğrencinin ödevlerini eksiltecektir.\n",
        "\n",
        "Sonrasında tanımlanan sınıfla bir obje oluşturulup *ödevleri bitene kadar*(döngü) ödevleri eksilten fonksiyon çağıralacaktır. Her ödev eksiltme fonksiyonunda kaç ödev kaldığı da yazdırılacaktır.\n",
        "\n",
        "\n",
        "\n",
        "\n",
        "\n",
        "\n",
        "---\n",
        "!!!Ödevle alakalı bir sıkıntı yaşarsanız veya ödevi bitirip kontrol etmek isterseniz Whatsapp üzerinden bizimle iletişime geçebilirsiniz.\n"
      ],
      "metadata": {
        "id": "RgtSEuNooFbY"
      }
    },
    {
      "cell_type": "code",
      "source": [
        "class Ogrenci:\n",
        "  def __init__(self, isim, sinif, odev):\n",
        "    self.isim = isim\n",
        "    self.sinif = sinif\n",
        "    self.odev = odev\n",
        "\n",
        "  def get_hw_done(self):\n",
        "    while (self.odev) > 0:\n",
        "      print(f\"{self.isim}'in kalan odev sayisi: {self.odev}\")\n",
        "      self.odev -= 1\n",
        "    print(f\"{self.isim} odevlerini tamamladi!\")\n",
        "    print()\n",
        "\n",
        "ogrenciler = []\n",
        "\n",
        "ogrenciler.append(Ogrenci(\"Kemalettin\", \"L12-A\", 52))\n",
        "ogrenciler.append(Ogrenci(\"Kamil\", \"L9-I\", 28))\n",
        "ogrenciler.append(Ogrenci(\"Kadri\", \"L10-B\", 2))\n",
        "\n",
        "\n",
        "for ogrenci in ogrenciler:\n",
        "  ogrenci.get_hw_done()"
      ],
      "metadata": {
        "id": "rLBg9-qypxf8",
        "outputId": "5e490a67-b6df-4c0e-dbf7-b700022224b6",
        "colab": {
          "base_uri": "https://localhost:8080/"
        }
      },
      "execution_count": 2,
      "outputs": [
        {
          "output_type": "stream",
          "name": "stdout",
          "text": [
            "Kemalettin'in kalan odev sayisi: 52\n",
            "Kemalettin'in kalan odev sayisi: 51\n",
            "Kemalettin'in kalan odev sayisi: 50\n",
            "Kemalettin'in kalan odev sayisi: 49\n",
            "Kemalettin'in kalan odev sayisi: 48\n",
            "Kemalettin'in kalan odev sayisi: 47\n",
            "Kemalettin'in kalan odev sayisi: 46\n",
            "Kemalettin'in kalan odev sayisi: 45\n",
            "Kemalettin'in kalan odev sayisi: 44\n",
            "Kemalettin'in kalan odev sayisi: 43\n",
            "Kemalettin'in kalan odev sayisi: 42\n",
            "Kemalettin'in kalan odev sayisi: 41\n",
            "Kemalettin'in kalan odev sayisi: 40\n",
            "Kemalettin'in kalan odev sayisi: 39\n",
            "Kemalettin'in kalan odev sayisi: 38\n",
            "Kemalettin'in kalan odev sayisi: 37\n",
            "Kemalettin'in kalan odev sayisi: 36\n",
            "Kemalettin'in kalan odev sayisi: 35\n",
            "Kemalettin'in kalan odev sayisi: 34\n",
            "Kemalettin'in kalan odev sayisi: 33\n",
            "Kemalettin'in kalan odev sayisi: 32\n",
            "Kemalettin'in kalan odev sayisi: 31\n",
            "Kemalettin'in kalan odev sayisi: 30\n",
            "Kemalettin'in kalan odev sayisi: 29\n",
            "Kemalettin'in kalan odev sayisi: 28\n",
            "Kemalettin'in kalan odev sayisi: 27\n",
            "Kemalettin'in kalan odev sayisi: 26\n",
            "Kemalettin'in kalan odev sayisi: 25\n",
            "Kemalettin'in kalan odev sayisi: 24\n",
            "Kemalettin'in kalan odev sayisi: 23\n",
            "Kemalettin'in kalan odev sayisi: 22\n",
            "Kemalettin'in kalan odev sayisi: 21\n",
            "Kemalettin'in kalan odev sayisi: 20\n",
            "Kemalettin'in kalan odev sayisi: 19\n",
            "Kemalettin'in kalan odev sayisi: 18\n",
            "Kemalettin'in kalan odev sayisi: 17\n",
            "Kemalettin'in kalan odev sayisi: 16\n",
            "Kemalettin'in kalan odev sayisi: 15\n",
            "Kemalettin'in kalan odev sayisi: 14\n",
            "Kemalettin'in kalan odev sayisi: 13\n",
            "Kemalettin'in kalan odev sayisi: 12\n",
            "Kemalettin'in kalan odev sayisi: 11\n",
            "Kemalettin'in kalan odev sayisi: 10\n",
            "Kemalettin'in kalan odev sayisi: 9\n",
            "Kemalettin'in kalan odev sayisi: 8\n",
            "Kemalettin'in kalan odev sayisi: 7\n",
            "Kemalettin'in kalan odev sayisi: 6\n",
            "Kemalettin'in kalan odev sayisi: 5\n",
            "Kemalettin'in kalan odev sayisi: 4\n",
            "Kemalettin'in kalan odev sayisi: 3\n",
            "Kemalettin'in kalan odev sayisi: 2\n",
            "Kemalettin'in kalan odev sayisi: 1\n",
            "Kemalettin odevlerini tamamladi!\n",
            "\n",
            "Kamil'in kalan odev sayisi: 28\n",
            "Kamil'in kalan odev sayisi: 27\n",
            "Kamil'in kalan odev sayisi: 26\n",
            "Kamil'in kalan odev sayisi: 25\n",
            "Kamil'in kalan odev sayisi: 24\n",
            "Kamil'in kalan odev sayisi: 23\n",
            "Kamil'in kalan odev sayisi: 22\n",
            "Kamil'in kalan odev sayisi: 21\n",
            "Kamil'in kalan odev sayisi: 20\n",
            "Kamil'in kalan odev sayisi: 19\n",
            "Kamil'in kalan odev sayisi: 18\n",
            "Kamil'in kalan odev sayisi: 17\n",
            "Kamil'in kalan odev sayisi: 16\n",
            "Kamil'in kalan odev sayisi: 15\n",
            "Kamil'in kalan odev sayisi: 14\n",
            "Kamil'in kalan odev sayisi: 13\n",
            "Kamil'in kalan odev sayisi: 12\n",
            "Kamil'in kalan odev sayisi: 11\n",
            "Kamil'in kalan odev sayisi: 10\n",
            "Kamil'in kalan odev sayisi: 9\n",
            "Kamil'in kalan odev sayisi: 8\n",
            "Kamil'in kalan odev sayisi: 7\n",
            "Kamil'in kalan odev sayisi: 6\n",
            "Kamil'in kalan odev sayisi: 5\n",
            "Kamil'in kalan odev sayisi: 4\n",
            "Kamil'in kalan odev sayisi: 3\n",
            "Kamil'in kalan odev sayisi: 2\n",
            "Kamil'in kalan odev sayisi: 1\n",
            "Kamil odevlerini tamamladi!\n",
            "\n",
            "Kadri'in kalan odev sayisi: 2\n",
            "Kadri'in kalan odev sayisi: 1\n",
            "Kadri odevlerini tamamladi!\n",
            "\n"
          ]
        }
      ]
    },
    {
      "cell_type": "markdown",
      "source": [
        "# math Kütüphanesi"
      ],
      "metadata": {
        "id": "VKhSF6YfeTjt"
      }
    },
    {
      "cell_type": "markdown",
      "source": [
        "Python kendi kaynak kodları haricinde bu kodlarla oluşturulmuş pek çok özelliğe sahip ve bu özellikler kütüphane olarak adlandırıyorlar. Kütüphaneler aslında birer class'lardır. Bunları kendi projenizde kullanmak istediğinizde kodunuza aktarmanız gerekiyor. Biz math kütüphanesiyle başlayacağımızdan onu tanımlıyoruz.\n",
        "\n",
        "\n",
        "**Örnek:**\n",
        "```python\n",
        "from math import sin, pi\n",
        "//math burada kullandığımız kütüphaneyi temsil ediyor\n",
        "/*sin ve pi yse bu kütüphaneden kendi kodunuza taşıdığınız fonksiyon ve değişkenleri temsil ediyor*/\n",
        "```\n"
      ],
      "metadata": {
        "id": "oq6jPKsuKYlO"
      }
    },
    {
      "cell_type": "markdown",
      "source": [
        "#Karmaşık Sayılar"
      ],
      "metadata": {
        "id": "2_Pxr-3Lnj5a"
      }
    },
    {
      "cell_type": "markdown",
      "source": [
        "Karmaşık sayıların kaynağı aşağıdaki i sayısıdır(pdf'de de bahsetmiştik zaten.).\n",
        "\n",
        " $$\\sqrt{-1}=i$$"
      ],
      "metadata": {
        "id": "TsEe6GBIwIaF"
      }
    },
    {
      "cell_type": "markdown",
      "source": [
        "Karmaşık sayılar iki kısıma ayrılır ve o şekilde gösterilir. Bir reel ve bir de karmaşık kısımdan oluşur."
      ],
      "metadata": {
        "id": "lLq1em9Lway0"
      }
    },
    {
      "cell_type": "markdown",
      "source": [
        "$$z=a+bi$$"
      ],
      "metadata": {
        "id": "PeMn1by6vL4Y"
      }
    },
    {
      "cell_type": "markdown",
      "source": [
        "<img src=\"https://gitlab.com/qworld/qeducation/qbook101/raw/main/qbook101/images/ch1/Complex_number.svg\" width=\"250\" align=\"center\">\n",
        "<p style=\"font-size:10px;font-style:italic;text-align:right\">\n",
        "<a href=\"https://en.wikipedia.org/wiki/Complex_number#/media/File:Complex_number_illustration_modarg.svg\" target=\"_blank\">source of image</a> (license CC BY-SA 3.0)</p>"
      ],
      "metadata": {
        "id": "8BKDjfTiJ_Cc"
      }
    },
    {
      "cell_type": "markdown",
      "source": [
        "Bu iki kısmı da yukarıda gördüğünüz gibi koordinat sistemi üzerinde gösterebiliriz. Python'da da complex(i,j) fonksiyonuyla tanımlanır. i reel kısım, j ise karmaşık kısmı temsil eder."
      ],
      "metadata": {
        "id": "mimcDI2MqP-9"
      }
    },
    {
      "cell_type": "code",
      "source": [
        "import numpy as np\n",
        "def cnumbercreator(i,j):\n",
        "  a=complex(i,j)\n",
        "  print(a)\n",
        "  print(a.real)\n",
        "  print(a.imag)\n",
        "cnumbercreator(3,5)"
      ],
      "metadata": {
        "id": "fXP_HWvyv17l",
        "colab": {
          "base_uri": "https://localhost:8080/"
        },
        "outputId": "db5bb2f6-81b9-4b5a-b436-54a6e0bde3bd"
      },
      "execution_count": 3,
      "outputs": [
        {
          "output_type": "stream",
          "name": "stdout",
          "text": [
            "(3+5j)\n",
            "3.0\n",
            "5.0\n"
          ]
        }
      ]
    },
    {
      "cell_type": "markdown",
      "source": [
        "Karmaşık sayıların çok bahsedeceğimiz bir özelliği de eşlenik özelliğidir. Bir karmaşık sayının kendi eşleniği ile çarpımı reel bir sonuç verir. complex(i, j) ile tanımladığımız karmaşık sayının eşleniğini .conjugate() fonksiyonuyla alıyoruz."
      ],
      "metadata": {
        "id": "IrTWpcxC84wy"
      }
    },
    {
      "cell_type": "markdown",
      "source": [
        "# numpy, Vektör ve Matrisler"
      ],
      "metadata": {
        "id": "DWYtoOK7qLEh"
      }
    },
    {
      "cell_type": "code",
      "source": [
        "import numpy as np"
      ],
      "metadata": {
        "id": "RnwkDWh02fHi"
      },
      "execution_count": null,
      "outputs": []
    },
    {
      "cell_type": "markdown",
      "source": [
        "Şimdi, numpy'da nasıl vektör oluşturulur onu göreceğiz. Numpy, python dili için oluşturulan bir bilimsel hesap kütüphanesidir.\n",
        "Numpy'daki olanaklar fazladır, biz sadece birkaçını göstereceğiz.\n",
        "\n",
        "Öncelikle $v = \\begin{pmatrix} 3 \\\\ 6 \\\\ 7 \\end{pmatrix}$ vektörünü ve $M = \\begin{pmatrix} 1 & 3 & 7 \\\\ 2 & 6 & 5 \\\\ 2 & 7 & 0\\end{pmatrix}$ matrisini tanımlayalım.\n"
      ],
      "metadata": {
        "id": "AszgOz-SmZnS"
      }
    },
    {
      "cell_type": "code",
      "source": [
        "v = np.array([3,6,7])\n",
        "M = np.array([[1,3,7],[2,6,5],[2,7,0]])"
      ],
      "metadata": {
        "id": "L0RHVKham_3C"
      },
      "execution_count": 4,
      "outputs": []
    },
    {
      "cell_type": "code",
      "source": [
        "print(v)\n",
        "print(v[0])\n",
        "print(v[1])"
      ],
      "metadata": {
        "id": "UxlqlPJmnMVn",
        "colab": {
          "base_uri": "https://localhost:8080/"
        },
        "outputId": "f65c148c-b5f2-4a0f-a3dc-cb79e374515d"
      },
      "execution_count": 5,
      "outputs": [
        {
          "output_type": "stream",
          "name": "stdout",
          "text": [
            "[3 6 7]\n",
            "3\n",
            "6\n"
          ]
        }
      ]
    },
    {
      "cell_type": "code",
      "source": [
        "print(M)\n",
        "print(M[0][0])\n",
        "print(M[1][0])"
      ],
      "metadata": {
        "id": "maDV-77nnQsl"
      },
      "execution_count": null,
      "outputs": []
    },
    {
      "cell_type": "markdown",
      "source": [
        "Şimdi, numpy'da iç çarpımın ve matris çarpımının nasıl yapıldığını görelim. Alışkanlık olsun diye buraya sonuçları yazıyoruz:\n",
        "\n",
        "$v \\cdot v = \\begin{pmatrix}3 \\\\ 6 \\\\ 7\\end{pmatrix}\\begin{pmatrix}3 \\\\ 6 \\\\ 7\\end{pmatrix} = \\begin{pmatrix}3 & 6 & 7\\end{pmatrix}\\begin{pmatrix}3 \\\\ 6 \\\\ 7\\end{pmatrix} = 9 + 36 + 49 = 94$\n",
        "\n",
        "$M \\cdot v = \\begin{pmatrix} 1 & 3 & 7 \\\\ 2 & 6 & 5 \\\\ 2 & 7 & 0\\end{pmatrix} \\begin{pmatrix}3 \\\\ 6 \\\\ 7\\end{pmatrix} = \\begin{pmatrix}3 + 18 + 49 \\\\ 6 + 36 + 35 \\\\ 6 + 42 + 0\\end{pmatrix} = \\begin{pmatrix}70 \\\\ 77 \\\\ 48\\end{pmatrix}$\n",
        "\n",
        "Eğer pratik yapmak istiyorsanız bu işlemleri kendiniz de yapmanızı öneririz.\n",
        "numpy'da çarpım için np.dot fonksiyonu kullanılıyor. np.dot fonksiyonunun ilk parametresi çarpılacak ilk nesneyi, ikinci parametresi ise ikincisini verir. Ayrıca bir satır vektörüyle bir sütun vektörünü girmeniz aynı vektörlerin ikisinin de sütun hâlini girmenizle aynı sonucu verir."
      ],
      "metadata": {
        "id": "CZyEbzXInao1"
      }
    },
    {
      "cell_type": "code",
      "source": [
        "vdotv = np.dot(v,v)\n",
        "print(vdotv)"
      ],
      "metadata": {
        "id": "PAxlbORZoRgt"
      },
      "execution_count": null,
      "outputs": []
    },
    {
      "cell_type": "code",
      "source": [
        "vsutun = np.array([[i] for i in v])\n",
        "print(vsutun)"
      ],
      "metadata": {
        "id": "SV07jHTOo2lU"
      },
      "execution_count": null,
      "outputs": []
    },
    {
      "cell_type": "code",
      "source": [
        "vdotvs = np.dot(v,vsutun)\n",
        "print(vdotvs)"
      ],
      "metadata": {
        "id": "fB_pkKkSo9be"
      },
      "execution_count": null,
      "outputs": []
    },
    {
      "cell_type": "code",
      "source": [
        "mdotv = np.dot(M,v)\n",
        "print(mdotv)"
      ],
      "metadata": {
        "id": "eaJuo5O-pJKH"
      },
      "execution_count": null,
      "outputs": []
    },
    {
      "cell_type": "code",
      "source": [
        "mdotm = np.dot(M,M)\n",
        "print(mdotm)"
      ],
      "metadata": {
        "id": "c3bU40rCpSOZ"
      },
      "execution_count": null,
      "outputs": []
    },
    {
      "cell_type": "markdown",
      "source": [
        "Şimdi ikinci bir matris tanımlayalım. Bu matris, $A = \\begin{pmatrix} 2 & 4 & 3 \\\\ 2 & 0 & 1 \\\\ 4 & 3 & 0\\end{pmatrix}$ olsun. Bu sefer $A\\cdot M$'yi bulmayı size bırakıyoruz."
      ],
      "metadata": {
        "id": "iFEW81REpY97"
      }
    },
    {
      "cell_type": "code",
      "source": [
        "A = np.array([[2,4,3],[2,0,1],[4,3,0]])\n",
        "mdota = np.dot(M,A)\n",
        "print(mdota)"
      ],
      "metadata": {
        "colab": {
          "base_uri": "https://localhost:8080/"
        },
        "id": "LpJcl-n2pmer",
        "outputId": "7c5a4a93-19e6-4db6-ded0-0899c2791b97"
      },
      "execution_count": null,
      "outputs": [
        {
          "output_type": "stream",
          "name": "stdout",
          "text": [
            "[[36 25  6]\n",
            " [36 23 12]\n",
            " [18  8 13]]\n"
          ]
        }
      ]
    },
    {
      "cell_type": "code",
      "source": [
        "adotm = np.dot(A,M)\n",
        "print(adotm)"
      ],
      "metadata": {
        "id": "zeCCiNxapvsf"
      },
      "execution_count": null,
      "outputs": []
    },
    {
      "cell_type": "markdown",
      "source": [
        "Gördüğünüz üzere, matris çarpımının sırasını değiştirince sonuç aynı olmuyor. Matematiksel olarak, genel durumda $AM \\neq MA$. Bunu şu şekilde görmek en kolaydır:\n",
        "$A$'nın ve $M$'nin ilk satır vektörleri $a,m$, $A$'nın ve $M$'nin ilk sütun vektörü $a',m'$ olsun. O zaman $AM$ matrisinin ilk girdisi $a\\cdot m'$ iken $MA$ matrisinin ilk girdisi $m \\cdot a'$'dır. Bu iki iç çarpım genel durumda eşit değildir. Biraz daha örnek görelim:"
      ],
      "metadata": {
        "id": "kOjXSC1hp0q8"
      }
    },
    {
      "cell_type": "code",
      "source": [
        "M1 = np.array([[1,5,3],[2,7,4],[9,1,3]])\n",
        "M2 = np.array([[3,5,2],[1,5,3],[2,3,5]])\n",
        "M3 = np.array([[1,2,3],[0,2,0],[4,2,1]])"
      ],
      "metadata": {
        "id": "68Zg9U4q4rP4"
      },
      "execution_count": null,
      "outputs": []
    },
    {
      "cell_type": "code",
      "source": [
        "M1M2 = np.dot(M1,M2)\n",
        "M2M1 = np.dot(M2,M1)\n",
        "print(M1M2)\n",
        "print(M2M1)"
      ],
      "metadata": {
        "id": "o7jEWToZ5say"
      },
      "execution_count": null,
      "outputs": []
    },
    {
      "cell_type": "code",
      "source": [
        "M1M3 = np.dot(M1,M3)\n",
        "M3M1 = np.dot(M3,M1)\n",
        "print(M1M3)\n",
        "print(M3M1)"
      ],
      "metadata": {
        "id": "MVhQNqVU6Y-P",
        "colab": {
          "base_uri": "https://localhost:8080/"
        },
        "outputId": "bd726336-137f-40d9-f518-5b405d2be9a6"
      },
      "execution_count": null,
      "outputs": [
        {
          "output_type": "stream",
          "name": "stdout",
          "text": [
            "[[13 18  6]\n",
            " [18 26 10]\n",
            " [21 26 30]]\n",
            "[[32 22 20]\n",
            " [ 4 14  8]\n",
            " [17 35 23]]\n"
          ]
        }
      ]
    },
    {
      "cell_type": "markdown",
      "source": [
        "Bu durumda $AM$ ve $MA$ arasındaki farkı fizik dünyası (ve matematik) için ilgi çekicidir. Temelde, kuantum operatörler için bu farkın 0 olması ölçülen iki özelliğin birbirini etkilemediğini gösterir. Heisenberg belirsizlik ilkesinden bildiğimiz üzere momentum ve pozisyon operatörleri için bu fark kesinlikle 0 değildir. Bu farkı, $[A,M] = AM - MA$ olarak gösterebiliriz."
      ],
      "metadata": {
        "id": "QGOVxGex6nRy"
      }
    },
    {
      "cell_type": "code",
      "source": [
        "commM1M3 = M1M3-M3M1\n",
        "print(commM1M3)"
      ],
      "metadata": {
        "colab": {
          "base_uri": "https://localhost:8080/"
        },
        "id": "ynPl5ZsPG2OT",
        "outputId": "babdf1f4-022a-40b2-8107-e0702847eb8b"
      },
      "execution_count": null,
      "outputs": [
        {
          "output_type": "stream",
          "name": "stdout",
          "text": [
            "[[-19  -4 -14]\n",
            " [ 14  12   2]\n",
            " [  4  -9   7]]\n"
          ]
        }
      ]
    },
    {
      "cell_type": "markdown",
      "source": [
        "## Ödev 2:\n",
        "Değişeci 0'a eşit olan iki matris bulunuz. Kodunuzu aşağıdaki boşlukta deneyiniz.\n",
        "\n",
        "İki matrisin değişeci sonuç olarak ne verir? (Vektör, skaler, matris vb. cevap)"
      ],
      "metadata": {
        "id": "IsGQK0ZTHKQ1"
      }
    },
    {
      "cell_type": "code",
      "source": [
        "import numpy as np\n",
        "M1 = np.array([[1, 1, 1], [1, 1, 1], [1, 1, 1]])\n",
        "M2 = np.array([[1, 1, 1], [1, 1, 1], [1, 1, 1]])\n",
        "M1M2 = np.linalg.det(M1)\n",
        "M2M1 = np.linalg.det(M2)\n",
        "commM1M2 = M1M2 - M2M1\n",
        "\n",
        "print(commM1M2)"
      ],
      "metadata": {
        "id": "ObkKD6ndHY4T",
        "outputId": "d6cf0bd2-c1ec-445d-c562-ee0259240892",
        "colab": {
          "base_uri": "https://localhost:8080/"
        }
      },
      "execution_count": null,
      "outputs": [
        {
          "output_type": "stream",
          "name": "stdout",
          "text": [
            "0.0\n"
          ]
        }
      ]
    },
    {
      "cell_type": "markdown",
      "source": [
        "Şimdi matrislerde daha önce gördüğümüz iki işlemin numpy'da nasıl yapıldığını göreceğiz: Tersini alma (inversion, $A^{-1}$) ve transpoz (transposition, $A^T$)"
      ],
      "metadata": {
        "id": "QdRdN-NFJDLF"
      }
    },
    {
      "cell_type": "code",
      "source": [
        "A = np.array([[1,5,4],[2,3,2],[3,1,5]])\n",
        "Ainv = np.linalg.inv(A)\n",
        "AT = np.transpose(A)\n",
        "print(Ainv)\n",
        "print(AT)"
      ],
      "metadata": {
        "id": "Ck7t8vCRJSoX"
      },
      "execution_count": null,
      "outputs": []
    },
    {
      "cell_type": "markdown",
      "source": [
        "Şimdi ise numpy'ın matrisler için özel bir arayüzünü göstereceğiz. Bu, np.array'in aksine np.matrix fonksiyonuyla matris oluşturmaya dayanıyor."
      ],
      "metadata": {
        "id": "jkEeCKjAJsqd"
      }
    },
    {
      "cell_type": "code",
      "source": [
        "Amat = np.matrix(A)\n",
        "a00 = Amat.item(0,0)\n",
        "AT = Amat.T\n",
        "print(AT)\n",
        "print(a00)"
      ],
      "metadata": {
        "id": "7zAsd4CXJ-Fu"
      },
      "execution_count": null,
      "outputs": []
    }
  ],
  "metadata": {
    "kernelspec": {
      "display_name": "Python 3 (ipykernel)",
      "language": "python",
      "name": "python3"
    },
    "language_info": {
      "codemirror_mode": {
        "name": "ipython",
        "version": 3
      },
      "file_extension": ".py",
      "mimetype": "text/x-python",
      "name": "python",
      "nbconvert_exporter": "python",
      "pygments_lexer": "ipython3",
      "version": "3.11.4"
    },
    "colab": {
      "provenance": [],
      "include_colab_link": true
    }
  },
  "nbformat": 4,
  "nbformat_minor": 0
}